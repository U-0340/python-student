{
 "cells": [
  {
   "cell_type": "code",
   "execution_count": 1,
   "metadata": {},
   "outputs": [
    {
     "name": "stdout",
     "output_type": "stream",
     "text": [
      "Enter english marks: 99\n",
      "Enter math marks: 55\n",
      "Enter urdu marks: 88\n",
      "Enter Islamiyat marks:99\n",
      "Enter Science marks: 99\n",
      "Your Total Marks of All Subjects is: 440 \n",
      "Your percentage is: 88.0 \n",
      "Grade A\n"
     ]
    }
   ],
   "source": [
    "sub1 = int(input(f\"Enter english marks: \"))\n",
    "sub2 = int(input(f\"Enter math marks: \"))\n",
    "sub3 = int(input(f\"Enter urdu marks: \"))\n",
    "sub4 = int(input(f\"Enter Islamiyat marks:\"))\n",
    "sub5 = int(input(f\"Enter Science marks: \"))\n",
    "   \n",
    "sum = sub1+sub2+sub3+sub4+sub5\n",
    "print(f\"Your Total Marks of All Subjects is: {sum} \")\n",
    "per = 100*sum/500\n",
    "print(f\"Your percentage is: {per} \")\n",
    "\n",
    "if per >= 80 and per <= 100:\n",
    "    print(\"Grade A\")\n",
    "elif per >= 70 and per <80:\n",
    "    print(\"Grade B\")\n",
    "elif per >= 60 and per < 70:\n",
    "    print(\"Grade C\")\n",
    "elif per >= 50 and per < 60:\n",
    "    print(\"Grade D\")\n",
    "elif per >= 40 and per < 50:\n",
    "    print(\"Grade E\")\n",
    "else:\n",
    "    print(\"fail\")"
   ]
  },
  {
   "cell_type": "code",
   "execution_count": 2,
   "metadata": {},
   "outputs": [
    {
     "name": "stdout",
     "output_type": "stream",
     "text": [
      "Enter a number69\n",
      "X, is odd\n"
     ]
    }
   ],
   "source": [
    "X = int(input(\"Enter a number\"))\n",
    "if X%2==0:\n",
    " print(\"X, is Even\")\n",
    "else:\n",
    " print(\"X, is odd\")"
   ]
  },
  {
   "cell_type": "code",
   "execution_count": 3,
   "metadata": {},
   "outputs": [
    {
     "name": "stdout",
     "output_type": "stream",
     "text": [
      "2\n"
     ]
    }
   ],
   "source": [
    "list = [\"Umair\",\"Alee\"]\n",
    "\n",
    "print(len(list))"
   ]
  },
  {
   "cell_type": "code",
   "execution_count": 4,
   "metadata": {},
   "outputs": [
    {
     "name": "stdout",
     "output_type": "stream",
     "text": [
      "How many number of sum you want: 5\n",
      "Enter Number: 33\n",
      "Enter Number: 225\n",
      "Enter Number: 22\n",
      "Enter Number: 11\n",
      "Enter Number: 22\n",
      "313\n"
     ]
    }
   ],
   "source": [
    "#initializing veriable sum\n",
    "sum = 0\n",
    "\n",
    "#empty list\n",
    "numbers = []\n",
    "n = int(input(\"How many number of sum you want: \"))\n",
    "\n",
    "#append user input in list\n",
    "for i in range(n):\n",
    "    number = int(input(\"Enter Number: \"))\n",
    "    numbers.append(number)\n",
    "\n",
    "#sum of user input\n",
    "for i in range(n):\n",
    "    sum += numbers[i]\n",
    "\n",
    "print(sum)"
   ]
  },
  {
   "cell_type": "code",
   "execution_count": 5,
   "metadata": {},
   "outputs": [
    {
     "name": "stdout",
     "output_type": "stream",
     "text": [
      "How many number of sum you want: 3\n",
      "Enter Number: 55\n",
      "Enter Number: 99\n",
      "Enter Number: 22\n",
      "99\n"
     ]
    }
   ],
   "source": [
    "#empty list\n",
    "numbers = []\n",
    "n = int(input(\"How many number of sum you want: \"))\n",
    "\n",
    "#append user input in list\n",
    "for i in range(n):\n",
    "    number = int(input(\"Enter Number: \"))\n",
    "    numbers.append(number)\n",
    "\n",
    "print(max(numbers))"
   ]
  },
  {
   "cell_type": "code",
   "execution_count": 6,
   "metadata": {},
   "outputs": [
    {
     "name": "stdout",
     "output_type": "stream",
     "text": [
      "How many number of sum you want: 5\n",
      "Enter Number: 11\n",
      "Enter Number: 4\n",
      "Enter Number: 22\n",
      "Enter Number: 33\n",
      "Enter Number: 1\n",
      "4\n",
      "1\n"
     ]
    }
   ],
   "source": [
    "'''\n",
    "Take a list, say for example this one:\n",
    "a = [1, 1, 2, 3, 5, 8, 13, 21, 34, 55, 89]\n",
    "and write a program that prints out all the elements of the list that are\n",
    "less than 5.\n",
    "'''\n",
    "#empty list\n",
    "numbers = []\n",
    "n = int(input(\"How many number of sum you want: \"))\n",
    "\n",
    "#append user input in list\n",
    "for i in range(n):\n",
    "    number = int(input(\"Enter Number: \"))\n",
    "    numbers.append(number)\n",
    "\n",
    "# cheaking numbers if lessthan 5 print it.\n",
    "for i in range(n):\n",
    "    if numbers[i] < 5:\n",
    "        print(numbers[i])"
   ]
  },
  {
   "cell_type": "code",
   "execution_count": null,
   "metadata": {},
   "outputs": [],
   "source": []
  }
 ],
 "metadata": {
  "kernelspec": {
   "display_name": "Python 3",
   "language": "python",
   "name": "python3"
  },
  "language_info": {
   "codemirror_mode": {
    "name": "ipython",
    "version": 3
   },
   "file_extension": ".py",
   "mimetype": "text/x-python",
   "name": "python",
   "nbconvert_exporter": "python",
   "pygments_lexer": "ipython3",
   "version": "3.7.4"
  }
 },
 "nbformat": 4,
 "nbformat_minor": 2
}
