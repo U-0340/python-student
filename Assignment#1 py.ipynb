{
 "cells": [
  {
   "cell_type": "code",
   "execution_count": 1,
   "metadata": {},
   "outputs": [
    {
     "name": "stdout",
     "output_type": "stream",
     "text": [
      "      How I wonder what you are!\n",
      "            Up above the world so high,\n",
      "            Like diamond in the sky.\n",
      "Twinkle, twinkle, little star,\n",
      "      How I wonder what you are\n"
     ]
    }
   ],
   "source": [
    "print(\"      \"+\"How I wonder what you are!\")\n",
    "print(\"            \"+\"Up above the world so high,\")\n",
    "print(\"            \"+\"Like diamond in the sky.\")\n",
    "print(\"Twinkle, twinkle, little star,\")\n",
    "print(\"      \"+\"How I wonder what you are\")"
   ]
  },
  {
   "cell_type": "code",
   "execution_count": 2,
   "metadata": {},
   "outputs": [
    {
     "name": "stdout",
     "output_type": "stream",
     "text": [
      "python version\n",
      "3.7.4 (default, Aug  9 2019, 18:34:13) [MSC v.1915 64 bit (AMD64)]\n"
     ]
    }
   ],
   "source": [
    "import sys\n",
    "print(\"python version\")\n",
    "print(sys.version)"
   ]
  },
  {
   "cell_type": "code",
   "execution_count": 3,
   "metadata": {},
   "outputs": [
    {
     "name": "stdout",
     "output_type": "stream",
     "text": [
      "November 1st,2019\n",
      "12:50 pm\n"
     ]
    }
   ],
   "source": [
    "print(\"November 1st,2019\")\n",
    "print(\"12:50 pm\")"
   ]
  },
  {
   "cell_type": "code",
   "execution_count": 4,
   "metadata": {},
   "outputs": [
    {
     "name": "stdout",
     "output_type": "stream",
     "text": [
      "Enter the radius5\n",
      "area of the circle is:  78.5\n"
     ]
    }
   ],
   "source": [
    "radius = int(input(\"Enter the radius\"))\n",
    "area = (3.14)*(radius**2)\n",
    "print(\"area of the circle is: \",area)"
   ]
  },
  {
   "cell_type": "code",
   "execution_count": 5,
   "metadata": {},
   "outputs": [
    {
     "name": "stdout",
     "output_type": "stream",
     "text": [
      "Enter your name: Javaria\n",
      "Enter your name: Khalid\n",
      "Khalid Javaria\n"
     ]
    }
   ],
   "source": [
    "First_name = input(\"Enter your name: \")\n",
    "Last_name = input(\"Enter your name: \")\n",
    "print(Last_name+\" \"+First_name)"
   ]
  },
  {
   "cell_type": "code",
   "execution_count": 6,
   "metadata": {},
   "outputs": [
    {
     "name": "stdout",
     "output_type": "stream",
     "text": [
      "Enter your value: 6\n",
      "Enter your value: 33\n",
      "39\n"
     ]
    }
   ],
   "source": [
    "a = int(input(\"Enter your value: \"))\n",
    "b = int(input(\"Enter your value: \"))\n",
    "print(a+b)"
   ]
  },
  {
   "cell_type": "code",
   "execution_count": null,
   "metadata": {},
   "outputs": [],
   "source": []
  }
 ],
 "metadata": {
  "kernelspec": {
   "display_name": "Python 3",
   "language": "python",
   "name": "python3"
  },
  "language_info": {
   "codemirror_mode": {
    "name": "ipython",
    "version": 3
   },
   "file_extension": ".py",
   "mimetype": "text/x-python",
   "name": "python",
   "nbconvert_exporter": "python",
   "pygments_lexer": "ipython3",
   "version": "3.7.4"
  }
 },
 "nbformat": 4,
 "nbformat_minor": 2
}
