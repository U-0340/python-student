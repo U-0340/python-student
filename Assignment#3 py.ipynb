{
 "cells": [
  {
   "cell_type": "code",
   "execution_count": 1,
   "metadata": {},
   "outputs": [
    {
     "name": "stdout",
     "output_type": "stream",
     "text": [
      "Enter number 1: 66\n",
      "Enter Operator: *\n",
      "Enter number 2: 55\n",
      "3630\n"
     ]
    }
   ],
   "source": [
    "'''\n",
    "Make a calculator using Python with addition , subtraction , multiplication ,\n",
    "division and power.\n",
    "'''\n",
    "\n",
    "num1 = int(input(\"Enter number 1: \"))\n",
    "oper = input(\"Enter Operator: \")\n",
    "num2 = int(input(\"Enter number 2: \"))\n",
    "\n",
    "if oper == '+':\n",
    "    print(num1 + num2)\n",
    "elif oper == '-':\n",
    "    print(num1 - num2)\n",
    "elif oper == '*':\n",
    "    print(num1*num2)\n",
    "elif oper == '/':\n",
    "    print(num1 / num2)\n",
    "elif oper == '^':\n",
    "    print(num1**num2)    # ** is power sign in Python\n",
    "else:\n",
    "    print(\"Invalid operator\")"
   ]
  },
  {
   "cell_type": "code",
   "execution_count": 7,
   "metadata": {},
   "outputs": [
    {
     "name": "stdout",
     "output_type": "stream",
     "text": [
      "['1', '2', '3', '4']\n"
     ]
    }
   ],
   "source": [
    "# Write a program to check if there is any numeric value in list using for loop\n",
    "\n",
    "mylist = ['1', 'Umair', '2', 'Alee', '3', '4']\n",
    "for item in mylist:\n",
    "    mynewlist = [s for s in mylist if s.isdigit()]\n",
    "\n",
    "print(mynewlist)"
   ]
  },
  {
   "cell_type": "code",
   "execution_count": 10,
   "metadata": {},
   "outputs": [
    {
     "name": "stdout",
     "output_type": "stream",
     "text": [
      "{'Employee_ID': 'PY**** ', 'Full Name': 'Javaria', 'Father Name': 'Khalid', 'Salary': '4000$ Insha-Allah'}\n"
     ]
    }
   ],
   "source": [
    "# Write a Python script to add a key to a dictionary\n",
    "\n",
    "Employee = {\"Employee_ID\": \"PY**** \",\n",
    "            \"Full Name\": \"Javaria\",\n",
    "            \"Father Name\": \"Khalid\",\n",
    "            }\n",
    "Employee[\"Salary\"] = \"4000$ Insha-Allah\"\n",
    "print(Employee)"
   ]
  },
  {
   "cell_type": "code",
   "execution_count": 4,
   "metadata": {},
   "outputs": [
    {
     "name": "stdout",
     "output_type": "stream",
     "text": [
      "50\n"
     ]
    }
   ],
   "source": [
    "# Write a Python program to sum all the numeric items in a dictionary\n",
    "\n",
    "Data = {'val1': 15, 'val2': 15, 'val3': 20}\n",
    "print(sum(Data.values()))"
   ]
  },
  {
   "cell_type": "code",
   "execution_count": 5,
   "metadata": {},
   "outputs": [
    {
     "name": "stdout",
     "output_type": "stream",
     "text": [
      "[3, 9, 12]\n"
     ]
    }
   ],
   "source": [
    "# Write a program to identify duplicate values from list:\n",
    "\n",
    "lst = [3, 6, 9, 12, 3, 30, 15, 9, 45, 36, 12, 12]\n",
    "dupItems = []\n",
    "uniqItems = {}\n",
    "for x in lst:\n",
    "   if x not in uniqItems:\n",
    "      uniqItems[x] = 1\n",
    "   else:\n",
    "      if uniqItems[x] == 1:\n",
    "         dupItems.append(x)\n",
    "      uniqItems[x] += 1\n",
    "print(dupItems)"
   ]
  },
  {
   "cell_type": "code",
   "execution_count": 2,
   "metadata": {},
   "outputs": [
    {
     "name": "stdout",
     "output_type": "stream",
     "text": [
      "Enter Key Name Check if exist or notnum2\n",
      "Given Key exist\n"
     ]
    }
   ],
   "source": [
    "# Write a Python script to check if a given key already exists in a dictionary\n",
    "dic = {\n",
    "    'num1' : 12,\n",
    "    'num2' : 15,\n",
    "    'string':'Name',\n",
    "    'char':'a',\n",
    "    'num3' : 17,\n",
    "    'num4':21,\n",
    "}\n",
    "check_key = input(\"Enter Key Name Check if exist or not\")\n",
    "flag = False\n",
    "for i in dic.keys():\n",
    "    if i == check_key:\n",
    "        flag = True\n",
    "        break\n",
    "\n",
    "if flag:\n",
    "    print(\"Given Key exist\")\n",
    "else:\n",
    "    print(\"Given Key dose not exist\")"
   ]
  },
  {
   "cell_type": "code",
   "execution_count": null,
   "metadata": {},
   "outputs": [],
   "source": []
  },
  {
   "cell_type": "code",
   "execution_count": null,
   "metadata": {},
   "outputs": [],
   "source": []
  },
  {
   "cell_type": "code",
   "execution_count": null,
   "metadata": {},
   "outputs": [],
   "source": []
  },
  {
   "cell_type": "code",
   "execution_count": null,
   "metadata": {},
   "outputs": [],
   "source": []
  }
 ],
 "metadata": {
  "kernelspec": {
   "display_name": "Python 3",
   "language": "python",
   "name": "python3"
  },
  "language_info": {
   "codemirror_mode": {
    "name": "ipython",
    "version": 3
   },
   "file_extension": ".py",
   "mimetype": "text/x-python",
   "name": "python",
   "nbconvert_exporter": "python",
   "pygments_lexer": "ipython3",
   "version": "3.7.4"
  }
 },
 "nbformat": 4,
 "nbformat_minor": 2
}
