{
 "cells": [
  {
   "cell_type": "code",
   "execution_count": 1,
   "metadata": {},
   "outputs": [
    {
     "name": "stdout",
     "output_type": "stream",
     "text": [
      "Name of city is  Karachi\n",
      "Country Name is :  Pakistan\n",
      "population is :  14.91 million approx\n",
      "Fact of the city is :  Karachi is vital to Pakistan's economy, contributing 42 per cent of GDP , 70 per cent of income tax revenue and 62 per cent of sales tax revenue. \n",
      "===================================================================================================================\n",
      "Name of city is  Dubai\n",
      "Country Name is :  UAE\n",
      "population is :  3.137 million approx\n",
      "Fact of the city is :   Dubai is the most popular city of the United Arab Emirates and if you live there, you wont have to pay any personal income taxes.\n",
      "===================================================================================================================\n",
      "Name of city is  Paris\n",
      "Country Name is :  France\n",
      "population is :  2.141 million approx\n",
      "Fact of the city is :  Paris,Known as the City of Love,Paris was originally a Roman City called “Lutetia.”\n",
      "===================================================================================================================\n"
     ]
    }
   ],
   "source": [
    "\"\"\"\n",
    "Question2:\n",
    "Make a dictionary called cities. Use the names of three cities as keys in your dictionary. Create a\n",
    "dictionary of information about each city and include the country that the city is in, its approximate\n",
    "population, and one fact about that city. The keys for each city’s dictionary should be something like\n",
    "country, population,and fact. Print the name of each city and all of the information you have stored\n",
    "about it.\n",
    "\n",
    "\"\"\"\n",
    "city ={\n",
    "    \"Karachi\" : {\n",
    "        \"country\": \"Pakistan\",\n",
    "        \"population\":\"14.91 million approx\",\n",
    "        \"fact\":\"Karachi is vital to Pakistan's economy, contributing 42 per cent of GDP , 70 per cent of income tax revenue and 62 per cent of sales tax revenue. \"\n",
    "},\n",
    "    \"Dubai\" : {\n",
    "        \"country\": \"UAE\",\n",
    "        \"population\":\"3.137 million approx\",\n",
    "        \"fact\":\" Dubai is the most popular city of the United Arab Emirates and if you live there, you wont have to pay any personal income taxes.\"\n",
    "    },\n",
    "    \"Paris\" : {\n",
    "        \"country\": \"France\",\n",
    "        \"population\":\"2.141 million approx\",\n",
    "        \"fact\":\"Paris,Known as the City of Love,Paris was originally a Roman City called “Lutetia.”\"\n",
    "    }\n",
    "}\n",
    "    \n",
    "for i in city.keys():\n",
    "    print(\"Name of city is \", i)\n",
    "    print(\"Country Name is : \" , city[i][\"country\"])\n",
    "    print(\"population is : \" , city[i][\"population\"])\n",
    "    print(\"Fact of the city is : \" , city[i][\"fact\"])\n",
    "    print(\"===================================================================================================================\")"
   ]
  },
  {
   "cell_type": "code",
   "execution_count": 2,
   "metadata": {},
   "outputs": [
    {
     "name": "stdout",
     "output_type": "stream",
     "text": [
      "Enter The Book Title: How Pakistan Got Divided\n",
      "One of my favorite books is  How Pakistan Got Divided\n"
     ]
    }
   ],
   "source": [
    "\"\"\"\n",
    "Question4:\n",
    "Write a function called favorite_book() that accepts one parameter, title. The function should print a\n",
    "message, such as One of my favorite books is Alice in Wonderland. Call the function, making sure to\n",
    "include a book title as an argument in the function call.\n",
    "\n",
    "\"\"\"\n",
    "def favorite_book(book_name):\n",
    "    print(\"One of my favorite books is \",book_name)\n",
    "    \n",
    "title=input(\"Enter The Book Title: \")\n",
    "\n",
    "favorite_book(title)"
   ]
  },
  {
   "cell_type": "code",
   "execution_count": 3,
   "metadata": {},
   "outputs": [
    {
     "name": "stdout",
     "output_type": "stream",
     "text": [
      "Welcome to online ticket booking system\n",
      "--------------------------------\n",
      "\n",
      "We have different prices of tickets according your age,\n",
      "\n",
      "Please enter Your Age: 21\n",
      " \n",
      "Your Ticket price is $15.\n"
     ]
    }
   ],
   "source": [
    "\"\"\"\n",
    "Question3:\n",
    "A movie theater charges different ticket prices depending on a person’s age. If a person is under the age\n",
    "of 3, the ticket is free; if they are between 3 and 12, the ticket is $10; and if they are over age 12, the\n",
    "ticket is $15. Write a loop in which you ask users their age, and then tell them the cost of their movie\n",
    "ticket.\n",
    "\n",
    "\"\"\"\n",
    "print(\"Welcome to online ticket booking system\\n--------------------------------\\n\\nWe have different prices of tickets according your age,\")\n",
    "age = int(input(\"\\nPlease enter Your Age: \"))\n",
    "for i in range(0,3):\n",
    "    if age <= 3:\n",
    "        print(\" \\nYour Ticket is Free.\")\n",
    "        break\n",
    "    elif age <= 12 and age >= 3:\n",
    "        print(\" \\nYour Ticket price is 10$.\")\n",
    "        break        \n",
    "    elif age >= 12:\n",
    "        print(\" \\nYour Ticket price is $15.\")\n",
    "        break"
   ]
  },
  {
   "cell_type": "code",
   "execution_count": 5,
   "metadata": {},
   "outputs": [
    {
     "name": "stdout",
     "output_type": "stream",
     "text": [
      "Guess the number between 1 to 30 : 12\n",
      "Your guess is too low\n",
      "Guess the number between 1 to 30 : 19\n",
      "Congratulation you Win!!\n"
     ]
    }
   ],
   "source": [
    "\"\"\"\n",
    "Question5:\n",
    "Guess the number game\n",
    "Write a program which randomly generate a number between 1 to 30 and ask the user in input field to\n",
    "guess the correct number. Give three chances to user guess the number and also give hint to user if\n",
    "hidden number is greater or smaller than the number he given\n",
    "\"\"\"\n",
    "import random\n",
    "\n",
    "random_num = random.randrange(1,30)\n",
    "\n",
    "flag = False\n",
    "\n",
    "for i in range(1,4):\n",
    "    guess = int(input(\"Guess the number between 1 to 30 : \"))\n",
    "    if guess == random_num:\n",
    "        flag = True \n",
    "        break\n",
    "    elif guess < random_num:\n",
    "        print(\"Your guess is too low\")\n",
    "    else:\n",
    "        print(\"Your guess is too high\")\n",
    "        \n",
    "if flag:\n",
    "    print(\"Congratulation you Win!!\")\n",
    "else:\n",
    "    print(\"You Loose\")\n",
    "    print(\"Correct Number is \", random_num)"
   ]
  },
  {
   "cell_type": "code",
   "execution_count": 1,
   "metadata": {},
   "outputs": [
    {
     "name": "stdout",
     "output_type": "stream",
     "text": [
      "Javaria\n",
      "Khalid\n",
      "21\n",
      "Karachi\n",
      "intermediate\n",
      "after update Qualification: Doing Bscs in computer\n",
      "{'first_name': 'Javaria', 'last_name,': 'Khalid', 'age': '21', 'city': 'Karachi'}\n"
     ]
    }
   ],
   "source": [
    "\"\"\"\n",
    "Question1:\n",
    "Use a dictionary to store information about a person you know. Store their first name, last name, age,\n",
    "and the city in which they live. You should have keys such as first_name, last_name, age, and city. Print\n",
    "each piece of information stored in your dictionary. Add a new key value pair about qualification then\n",
    "update the qualification value to high academic level then delete it.\n",
    "\"\"\"\n",
    "person = {\n",
    "    \"first_name\" : \"Javaria\",\n",
    "    \"last_name,\" : \"Khalid\",\n",
    "    \"age\":\"21\",\n",
    "    \"city\" : \"Karachi\"\n",
    "}\n",
    "\n",
    "for i in person.values():\n",
    "    print(i)\n",
    "\n",
    "person.update({\"qualification\":\"intermediate\"})\n",
    "\n",
    "print(person[\"qualification\"])\n",
    "\n",
    "person[\"qualification\"] = \"Doing Bscs in computer\"\n",
    "print(\"after update Qualification:\",person[\"qualification\"])\n",
    "\n",
    "del person[\"qualification\"]\n",
    "\n",
    "print(person)"
   ]
  },
  {
   "cell_type": "code",
   "execution_count": null,
   "metadata": {},
   "outputs": [],
   "source": []
  }
 ],
 "metadata": {
  "kernelspec": {
   "display_name": "Python 3",
   "language": "python",
   "name": "python3"
  },
  "language_info": {
   "codemirror_mode": {
    "name": "ipython",
    "version": 3
   },
   "file_extension": ".py",
   "mimetype": "text/x-python",
   "name": "python",
   "nbconvert_exporter": "python",
   "pygments_lexer": "ipython3",
   "version": "3.7.4"
  }
 },
 "nbformat": 4,
 "nbformat_minor": 2
}
